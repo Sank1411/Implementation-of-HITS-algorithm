{
 "cells": [
  {
   "cell_type": "markdown",
   "metadata": {},
   "source": [
    "# Mutually Recursive HITS algorithm"
   ]
  },
  {
   "cell_type": "code",
   "execution_count": 58,
   "metadata": {},
   "outputs": [],
   "source": [
    "import heapq\n",
    "import math\n",
    "from collections import defaultdict\n",
    "import numpy as np"
   ]
  },
  {
   "cell_type": "code",
   "execution_count": 71,
   "metadata": {},
   "outputs": [],
   "source": [
    "# Class graph used to implement the graph of webpages\n",
    "class Graph:\n",
    "\n",
    "    def __init__(self,vertices):\n",
    "        self.nodes = []\n",
    "        for i in range(len(vertices)):\n",
    "            self.nodes.append(vertices[i])\n",
    "        self.edges = []\n",
    "        self.out_pointer = defaultdict(list)\n",
    "        self.in_pointer = defaultdict(list)\n",
    "        \n",
    "    def addEdge(self,u,v): \n",
    "        for edges in self.edges:\n",
    "            if u==edges[0] and v==edges[1]:\n",
    "                print(\"Edge is already present\")\n",
    "                return\n",
    "        self.edges.append([u,v])\n",
    "        self.out_pointer[u].append(v)\n",
    "        self.in_pointer[v].append(u)\n",
    "        \n",
    "    def print_graph(self):\n",
    "        for node in self.nodes:\n",
    "            print(\"Node :\",node)\n",
    "            print(\"OutPointer:\",self.out_pointer[node])\n",
    "            print(\"InPointer:\",self.in_pointer[node])\n",
    "            print()\n",
    "            \n",
    "    def get_HITS(self):\n",
    "        n = len(self.nodes)\n",
    "        print(\"Initial Hub weight vector: \")\n",
    "        prev_hub_weight = np.ones(n)\n",
    "        print(prev_hub_weight)\n",
    "        print(\"Initial Authority weight vector: \")\n",
    "        prev_authority_weight = np.ones(n)\n",
    "        print(prev_authority_weight)\n",
    "        print()\n",
    "        for i in range(10):\n",
    "            print(\"Iteartion: \",i+1)\n",
    "            \n",
    "            curr_authority_weight = []\n",
    "            for node in range(n):\n",
    "                temp=0\n",
    "                for inlinks in self.in_pointer[node]:\n",
    "                    temp=temp+prev_hub_weight[inlinks]\n",
    "                curr_authority_weight.append(temp)\n",
    "                \n",
    "            auth_sum = sum(curr_authority_weight)\n",
    "            curr_authority_weight=curr_authority_weight/auth_sum\n",
    "            curr_authority_weight=np.array(curr_authority_weight)\n",
    "            print(\"Authority weights :\",curr_authority_weight)\n",
    "            curr_hub_weight = []\n",
    "            for node in range(n):\n",
    "                temp=0\n",
    "                for outlinks in self.out_pointer[node]:\n",
    "                    temp=temp+curr_authority_weight[outlinks]\n",
    "                curr_hub_weight.append(temp)   \n",
    "            hub_sum = sum(curr_hub_weight)\n",
    "            curr_hub_weight=curr_hub_weight/hub_sum\n",
    "            curr_hub_weight=np.array(curr_hub_weight)\n",
    "            print(\"Hub weights :\",curr_hub_weight)\n",
    "            print()\n",
    "            auth_differences = abs(prev_authority_weight - curr_authority_weight)\n",
    "            hub_differences = abs(prev_hub_weight - curr_hub_weight)\n",
    "            if np.all(auth_differences <= 0.001) and np.all(hub_differences <= 0.001) :\n",
    "                break\n",
    "            prev_authority_weight = curr_authority_weight\n",
    "            prev_hub_weight=curr_hub_weight\n",
    "        return curr_hub_weight,curr_authority_weight"
   ]
  },
  {
   "cell_type": "code",
   "execution_count": null,
   "metadata": {},
   "outputs": [],
   "source": [
    "#EXAMPLE:"
   ]
  },
  {
   "cell_type": "code",
   "execution_count": 72,
   "metadata": {},
   "outputs": [
    {
     "name": "stdout",
     "output_type": "stream",
     "text": [
      "Node : 0\n",
      "Outlinks: [1, 2, 3]\n",
      "Inlinks: [1]\n",
      "\n",
      "Node : 1\n",
      "Outlinks: [0, 2, 3]\n",
      "Inlinks: [0]\n",
      "\n",
      "Node : 2\n",
      "Outlinks: [3]\n",
      "Inlinks: [0, 1]\n",
      "\n",
      "Node : 3\n",
      "Outlinks: []\n",
      "Inlinks: [0, 1, 2]\n",
      "\n"
     ]
    }
   ],
   "source": [
    "g = Graph([0,1,2,3]) \n",
    "\n",
    "g.addEdge(0, 1)\n",
    "g.addEdge(0, 2)\n",
    "g.addEdge(0, 3)\n",
    "\n",
    "g.addEdge(1, 0)\n",
    "g.addEdge(1, 2)\n",
    "g.addEdge(1, 3)\n",
    "\n",
    "g.addEdge(2, 3)\n",
    "\n",
    "g.print_graph()"
   ]
  },
  {
   "cell_type": "code",
   "execution_count": 74,
   "metadata": {},
   "outputs": [
    {
     "name": "stdout",
     "output_type": "stream",
     "text": [
      "Initial Hub weight vector: \n",
      "[1. 1. 1. 1.]\n",
      "Initial Authority weight vector: \n",
      "[1. 1. 1. 1.]\n",
      "--------------------------------------------------------------------------------------------\n",
      "Iteartion number:  1\n",
      "Authority weights : [0.14285714 0.14285714 0.28571429 0.42857143]\n",
      "Hub weights : [0.4 0.4 0.2 0. ]\n",
      "--------------------------------------------------------------------------------------------\n",
      "Iteartion number:  2\n",
      "Authority weights : [0.15384615 0.15384615 0.30769231 0.38461538]\n",
      "Hub weights : [0.40740741 0.40740741 0.18518519 0.        ]\n",
      "--------------------------------------------------------------------------------------------\n",
      "Iteartion number:  3\n",
      "Authority weights : [0.15492958 0.15492958 0.30985915 0.38028169]\n",
      "Hub weights : [0.40816327 0.40816327 0.18367347 0.        ]\n",
      "--------------------------------------------------------------------------------------------\n",
      "Iteartion number:  4\n",
      "Authority weights : [0.15503876 0.15503876 0.31007752 0.37984496]\n",
      "Hub weights : [0.4082397 0.4082397 0.1835206 0.       ]\n",
      "--------------------------------------------------------------------------------------------\n",
      "\n",
      "Final Hub Weights : [0.4082397 0.4082397 0.1835206 0.       ]\n",
      "Final Authority Weights : [0.15503876 0.15503876 0.31007752 0.37984496]\n"
     ]
    }
   ],
   "source": [
    "hub,auth=g.get_HITS()\n",
    "print(\"\\nFinal Hub Weights :\",hub)\n",
    "print(\"Final Authority Weights :\",auth)"
   ]
  },
  {
   "cell_type": "code",
   "execution_count": null,
   "metadata": {},
   "outputs": [],
   "source": []
  },
  {
   "cell_type": "code",
   "execution_count": null,
   "metadata": {},
   "outputs": [],
   "source": []
  }
 ],
 "metadata": {
  "kernelspec": {
   "display_name": "Python 3",
   "language": "python",
   "name": "python3"
  },
  "language_info": {
   "codemirror_mode": {
    "name": "ipython",
    "version": 3
   },
   "file_extension": ".py",
   "mimetype": "text/x-python",
   "name": "python",
   "nbconvert_exporter": "python",
   "pygments_lexer": "ipython3",
   "version": "3.6.5"
  }
 },
 "nbformat": 4,
 "nbformat_minor": 4
}
